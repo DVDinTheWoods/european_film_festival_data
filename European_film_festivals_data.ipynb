{
 "cells": [
  {
   "cell_type": "code",
   "execution_count": 1,
   "id": "644c0443-0b01-4035-aed4-a96cbc5e29e0",
   "metadata": {
    "tags": []
   },
   "outputs": [],
   "source": [
    "import pandas as pd"
   ]
  },
  {
   "cell_type": "markdown",
   "id": "e110a8d9",
   "metadata": {},
   "source": [
    "**Заберем информацию о победителях фестивалей со страниц Википедии**"
   ]
  },
  {
   "cell_type": "code",
   "execution_count": 2,
   "id": "08db6d95-5ccf-47fd-a824-2bb7cc9359fb",
   "metadata": {
    "tags": []
   },
   "outputs": [],
   "source": [
    "url_1 = \"https://en.wikipedia.org/wiki/Golden_Bear\"\n",
    "df_berlin = pd.read_html(url_1)[1]"
   ]
  },
  {
   "cell_type": "code",
   "execution_count": 3,
   "id": "f2de716e-3b8a-4259-a995-5f552dfcaa53",
   "metadata": {
    "tags": []
   },
   "outputs": [],
   "source": [
    "url_2 = \"https://en.wikipedia.org/wiki/Palme_d%27Or\"\n",
    "df_cannes = pd.read_html(url_2)[1]"
   ]
  },
  {
   "cell_type": "code",
   "execution_count": 4,
   "id": "ab3d8a1c-4033-4dfb-9984-62c90c168e84",
   "metadata": {
    "tags": []
   },
   "outputs": [],
   "source": [
    "url_3 = \"https://en.wikipedia.org/wiki/Golden_Lion\"\n",
    "df_venice = pd.read_html(url_3)[1]"
   ]
  },
  {
   "cell_type": "markdown",
   "id": "7238657e",
   "metadata": {},
   "source": [
    "**Немного поработаем с данными по Берлинскому кинофестивалю**"
   ]
  },
  {
   "cell_type": "code",
   "execution_count": 5,
   "id": "f058006a-f1cb-4a87-8de9-f5857d4e817f",
   "metadata": {
    "tags": []
   },
   "outputs": [
    {
     "data": {
      "text/html": [
       "<div>\n",
       "<style scoped>\n",
       "    .dataframe tbody tr th:only-of-type {\n",
       "        vertical-align: middle;\n",
       "    }\n",
       "\n",
       "    .dataframe tbody tr th {\n",
       "        vertical-align: top;\n",
       "    }\n",
       "\n",
       "    .dataframe thead th {\n",
       "        text-align: right;\n",
       "    }\n",
       "</style>\n",
       "<table border=\"1\" class=\"dataframe\">\n",
       "  <thead>\n",
       "    <tr style=\"text-align: right;\">\n",
       "      <th></th>\n",
       "      <th>Year</th>\n",
       "      <th>English Title</th>\n",
       "      <th>Original title</th>\n",
       "      <th>Director(s)</th>\n",
       "      <th>Production Country</th>\n",
       "    </tr>\n",
       "  </thead>\n",
       "  <tbody>\n",
       "    <tr>\n",
       "      <th>0</th>\n",
       "      <td>1951: West German Jury Vote</td>\n",
       "      <td>1951: West German Jury Vote</td>\n",
       "      <td>1951: West German Jury Vote</td>\n",
       "      <td>1951: West German Jury Vote</td>\n",
       "      <td>1951: West German Jury Vote</td>\n",
       "    </tr>\n",
       "    <tr>\n",
       "      <th>1</th>\n",
       "      <td>1951 (1st)</td>\n",
       "      <td>Four in a Jeep (Drama)</td>\n",
       "      <td>Die Vier im Jeep</td>\n",
       "      <td>Leopold Lindtberg</td>\n",
       "      <td>Switzerland</td>\n",
       "    </tr>\n",
       "    <tr>\n",
       "      <th>2</th>\n",
       "      <td>1951 (1st)</td>\n",
       "      <td>Without Leaving an Address (Comedy)</td>\n",
       "      <td>...Sans laisser d'adresse</td>\n",
       "      <td>Jean-Paul Le Chanois</td>\n",
       "      <td>France</td>\n",
       "    </tr>\n",
       "    <tr>\n",
       "      <th>3</th>\n",
       "      <td>1951 (1st)</td>\n",
       "      <td>In Beaver Valley (Documentary)</td>\n",
       "      <td>In Beaver Valley (Documentary)</td>\n",
       "      <td>James Algar</td>\n",
       "      <td>United States</td>\n",
       "    </tr>\n",
       "    <tr>\n",
       "      <th>4</th>\n",
       "      <td>1951 (1st)</td>\n",
       "      <td>Justice Is Done (Thriller &amp; Adventure)</td>\n",
       "      <td>Justice est faite</td>\n",
       "      <td>André Cayatte</td>\n",
       "      <td>France</td>\n",
       "    </tr>\n",
       "  </tbody>\n",
       "</table>\n",
       "</div>"
      ],
      "text/plain": [
       "                          Year                           English Title  \\\n",
       "0  1951: West German Jury Vote             1951: West German Jury Vote   \n",
       "1                   1951 (1st)                  Four in a Jeep (Drama)   \n",
       "2                   1951 (1st)     Without Leaving an Address (Comedy)   \n",
       "3                   1951 (1st)          In Beaver Valley (Documentary)   \n",
       "4                   1951 (1st)  Justice Is Done (Thriller & Adventure)   \n",
       "\n",
       "                   Original title                  Director(s)  \\\n",
       "0     1951: West German Jury Vote  1951: West German Jury Vote   \n",
       "1                Die Vier im Jeep            Leopold Lindtberg   \n",
       "2       ...Sans laisser d'adresse         Jean-Paul Le Chanois   \n",
       "3  In Beaver Valley (Documentary)                  James Algar   \n",
       "4               Justice est faite                André Cayatte   \n",
       "\n",
       "            Production Country  \n",
       "0  1951: West German Jury Vote  \n",
       "1                  Switzerland  \n",
       "2                       France  \n",
       "3                United States  \n",
       "4                       France  "
      ]
     },
     "execution_count": 5,
     "metadata": {},
     "output_type": "execute_result"
    }
   ],
   "source": [
    "df_berlin.head()"
   ]
  },
  {
   "cell_type": "code",
   "execution_count": 6,
   "id": "e6ca42a8-f445-402a-bde3-8c5d1651b066",
   "metadata": {
    "tags": []
   },
   "outputs": [],
   "source": [
    "#Переведем названия столбцов в нижний регистр и уберем пробелы\n",
    "df_berlin.columns = map(str.lower, df_berlin.columns)\n",
    "df_berlin.columns = df_berlin.columns.str.replace(' ', '_')"
   ]
  },
  {
   "cell_type": "code",
   "execution_count": 7,
   "id": "afa6f3dd-0ec5-42e8-80b7-bc613b304c60",
   "metadata": {
    "tags": []
   },
   "outputs": [],
   "source": [
    "#Уберем строки с идентичными значениями в столбцах, а также уберем лишние символы из столбца с годом проведения фестиваля\n",
    "df_berlin = df_berlin[df_berlin[\"original_title\"] != df_berlin[\"production_country\"]]\n",
    "df_berlin['year'] = [x[:4] for x in df_berlin['year']]"
   ]
  },
  {
   "cell_type": "code",
   "execution_count": 8,
   "id": "11d6c208-2169-4544-a018-085fa2a81131",
   "metadata": {
    "tags": []
   },
   "outputs": [],
   "source": [
    "#В кач-ве страны производства оставим только одну (больший вес имеет та страна, которая вложила больше средств)\n",
    "df_berlin['production_country'] = df_berlin['production_country'].replace(\",.*\", \"\", regex=True)"
   ]
  },
  {
   "cell_type": "markdown",
   "id": "5a8a3927",
   "metadata": {},
   "source": [
    "**Проделаем аналогичные действия для Каннского кинофестиваля**"
   ]
  },
  {
   "cell_type": "code",
   "execution_count": 9,
   "id": "7de04d16-e854-439d-9500-bcdd08d3e59d",
   "metadata": {
    "tags": []
   },
   "outputs": [
    {
     "data": {
      "text/html": [
       "<div>\n",
       "<style scoped>\n",
       "    .dataframe tbody tr th:only-of-type {\n",
       "        vertical-align: middle;\n",
       "    }\n",
       "\n",
       "    .dataframe tbody tr th {\n",
       "        vertical-align: top;\n",
       "    }\n",
       "\n",
       "    .dataframe thead th {\n",
       "        text-align: right;\n",
       "    }\n",
       "</style>\n",
       "<table border=\"1\" class=\"dataframe\">\n",
       "  <thead>\n",
       "    <tr style=\"text-align: right;\">\n",
       "      <th></th>\n",
       "      <th>Year</th>\n",
       "      <th>English Title</th>\n",
       "      <th>Original title</th>\n",
       "      <th>Director(s)</th>\n",
       "      <th>Production Country</th>\n",
       "      <th>Ref.</th>\n",
       "    </tr>\n",
       "  </thead>\n",
       "  <tbody>\n",
       "    <tr>\n",
       "      <th>0</th>\n",
       "      <td>1939</td>\n",
       "      <td>The inaugural Cannes Film Festival was to have...</td>\n",
       "      <td>The inaugural Cannes Film Festival was to have...</td>\n",
       "      <td>The inaugural Cannes Film Festival was to have...</td>\n",
       "      <td>The inaugural Cannes Film Festival was to have...</td>\n",
       "      <td>[15]</td>\n",
       "    </tr>\n",
       "    <tr>\n",
       "      <th>1</th>\n",
       "      <td>Awarded as \"Grand Prix du Festival Internation...</td>\n",
       "      <td>Awarded as \"Grand Prix du Festival Internation...</td>\n",
       "      <td>Awarded as \"Grand Prix du Festival Internation...</td>\n",
       "      <td>Awarded as \"Grand Prix du Festival Internation...</td>\n",
       "      <td>Awarded as \"Grand Prix du Festival Internation...</td>\n",
       "      <td>Awarded as \"Grand Prix du Festival Internation...</td>\n",
       "    </tr>\n",
       "    <tr>\n",
       "      <th>2</th>\n",
       "      <td>1946</td>\n",
       "      <td>Brief Encounter</td>\n",
       "      <td>Brief Encounter</td>\n",
       "      <td>David Lean</td>\n",
       "      <td>United Kingdom</td>\n",
       "      <td>[16]</td>\n",
       "    </tr>\n",
       "    <tr>\n",
       "      <th>3</th>\n",
       "      <td>1946</td>\n",
       "      <td>The Last Chance</td>\n",
       "      <td>Die Letzte Chance</td>\n",
       "      <td>Leopold Lindtberg</td>\n",
       "      <td>Switzerland</td>\n",
       "      <td>[17]</td>\n",
       "    </tr>\n",
       "    <tr>\n",
       "      <th>4</th>\n",
       "      <td>1946</td>\n",
       "      <td>The Lost Weekend</td>\n",
       "      <td>The Lost Weekend</td>\n",
       "      <td>Billy Wilder</td>\n",
       "      <td>United States</td>\n",
       "      <td>[18]</td>\n",
       "    </tr>\n",
       "  </tbody>\n",
       "</table>\n",
       "</div>"
      ],
      "text/plain": [
       "                                                Year  \\\n",
       "0                                               1939   \n",
       "1  Awarded as \"Grand Prix du Festival Internation...   \n",
       "2                                               1946   \n",
       "3                                               1946   \n",
       "4                                               1946   \n",
       "\n",
       "                                       English Title  \\\n",
       "0  The inaugural Cannes Film Festival was to have...   \n",
       "1  Awarded as \"Grand Prix du Festival Internation...   \n",
       "2                                    Brief Encounter   \n",
       "3                                    The Last Chance   \n",
       "4                                   The Lost Weekend   \n",
       "\n",
       "                                      Original title  \\\n",
       "0  The inaugural Cannes Film Festival was to have...   \n",
       "1  Awarded as \"Grand Prix du Festival Internation...   \n",
       "2                                    Brief Encounter   \n",
       "3                                  Die Letzte Chance   \n",
       "4                                   The Lost Weekend   \n",
       "\n",
       "                                         Director(s)  \\\n",
       "0  The inaugural Cannes Film Festival was to have...   \n",
       "1  Awarded as \"Grand Prix du Festival Internation...   \n",
       "2                                         David Lean   \n",
       "3                                  Leopold Lindtberg   \n",
       "4                                       Billy Wilder   \n",
       "\n",
       "                                  Production Country  \\\n",
       "0  The inaugural Cannes Film Festival was to have...   \n",
       "1  Awarded as \"Grand Prix du Festival Internation...   \n",
       "2                                     United Kingdom   \n",
       "3                                        Switzerland   \n",
       "4                                      United States   \n",
       "\n",
       "                                                Ref.  \n",
       "0                                               [15]  \n",
       "1  Awarded as \"Grand Prix du Festival Internation...  \n",
       "2                                               [16]  \n",
       "3                                               [17]  \n",
       "4                                               [18]  "
      ]
     },
     "execution_count": 9,
     "metadata": {},
     "output_type": "execute_result"
    }
   ],
   "source": [
    "df_cannes.head()"
   ]
  },
  {
   "cell_type": "code",
   "execution_count": 10,
   "id": "fafb7dbf-db9b-4808-a549-29e8670f6984",
   "metadata": {
    "tags": []
   },
   "outputs": [],
   "source": [
    "#Уберем столбец Ref.Переведем названия столбцов в нижний регистр и уберем пробелы\n",
    "df_cannes = df_cannes.drop('Ref.', axis=1)\n",
    "df_cannes.columns = map(str.lower, df_cannes.columns)\n",
    "df_cannes.columns = df_cannes.columns.str.replace(' ', '_')"
   ]
  },
  {
   "cell_type": "code",
   "execution_count": 11,
   "id": "67b287af-f5c2-43fa-ad5d-96cb00c64032",
   "metadata": {
    "tags": []
   },
   "outputs": [],
   "source": [
    "#Уберем строки с идентичными значениями в столбцах\n",
    "df_cannes = df_cannes[df_cannes[\"original_title\"] != df_cannes[\"production_country\"]]"
   ]
  },
  {
   "cell_type": "code",
   "execution_count": 12,
   "id": "714af536-0da3-4794-a943-463abc798e85",
   "metadata": {
    "tags": []
   },
   "outputs": [],
   "source": [
    "#Оставляем одну страну производства\n",
    "df_cannes['production_country'] = df_cannes['production_country'].replace(\",.*\", \"\", regex=True)"
   ]
  },
  {
   "cell_type": "markdown",
   "id": "8830182d",
   "metadata": {},
   "source": [
    "**И для Веницианского кинофестиваля**"
   ]
  },
  {
   "cell_type": "code",
   "execution_count": 13,
   "id": "6f2c573c-1345-46bc-bf8c-49c698f6a5da",
   "metadata": {
    "tags": []
   },
   "outputs": [
    {
     "data": {
      "text/html": [
       "<div>\n",
       "<style scoped>\n",
       "    .dataframe tbody tr th:only-of-type {\n",
       "        vertical-align: middle;\n",
       "    }\n",
       "\n",
       "    .dataframe tbody tr th {\n",
       "        vertical-align: top;\n",
       "    }\n",
       "\n",
       "    .dataframe thead th {\n",
       "        text-align: right;\n",
       "    }\n",
       "</style>\n",
       "<table border=\"1\" class=\"dataframe\">\n",
       "  <thead>\n",
       "    <tr style=\"text-align: right;\">\n",
       "      <th></th>\n",
       "      <th>Year</th>\n",
       "      <th>English Title</th>\n",
       "      <th>Original Title</th>\n",
       "      <th>Director(s)</th>\n",
       "      <th>Production Country</th>\n",
       "    </tr>\n",
       "  </thead>\n",
       "  <tbody>\n",
       "    <tr>\n",
       "      <th>0</th>\n",
       "      <td>1949–1953: Awarded as \"Golden Lion of Saint Mark\"</td>\n",
       "      <td>1949–1953: Awarded as \"Golden Lion of Saint Mark\"</td>\n",
       "      <td>1949–1953: Awarded as \"Golden Lion of Saint Mark\"</td>\n",
       "      <td>1949–1953: Awarded as \"Golden Lion of Saint Mark\"</td>\n",
       "      <td>1949–1953: Awarded as \"Golden Lion of Saint Mark\"</td>\n",
       "    </tr>\n",
       "    <tr>\n",
       "      <th>1</th>\n",
       "      <td>1949 (10th)</td>\n",
       "      <td>Manon</td>\n",
       "      <td>Manon</td>\n",
       "      <td>Henri-Georges Clouzot</td>\n",
       "      <td>France</td>\n",
       "    </tr>\n",
       "    <tr>\n",
       "      <th>2</th>\n",
       "      <td>1950s</td>\n",
       "      <td>1950s</td>\n",
       "      <td>1950s</td>\n",
       "      <td>1950s</td>\n",
       "      <td>1950s</td>\n",
       "    </tr>\n",
       "    <tr>\n",
       "      <th>3</th>\n",
       "      <td>1950 (11th)</td>\n",
       "      <td>Justice Is Done</td>\n",
       "      <td>Justice est faite</td>\n",
       "      <td>André Cayatte</td>\n",
       "      <td>France</td>\n",
       "    </tr>\n",
       "    <tr>\n",
       "      <th>4</th>\n",
       "      <td>1951 (12th)</td>\n",
       "      <td>Rashomon</td>\n",
       "      <td>羅生門</td>\n",
       "      <td>Akira Kurosawa</td>\n",
       "      <td>Japan</td>\n",
       "    </tr>\n",
       "  </tbody>\n",
       "</table>\n",
       "</div>"
      ],
      "text/plain": [
       "                                                Year  \\\n",
       "0  1949–1953: Awarded as \"Golden Lion of Saint Mark\"   \n",
       "1                                        1949 (10th)   \n",
       "2                                              1950s   \n",
       "3                                        1950 (11th)   \n",
       "4                                        1951 (12th)   \n",
       "\n",
       "                                       English Title  \\\n",
       "0  1949–1953: Awarded as \"Golden Lion of Saint Mark\"   \n",
       "1                                              Manon   \n",
       "2                                              1950s   \n",
       "3                                    Justice Is Done   \n",
       "4                                           Rashomon   \n",
       "\n",
       "                                      Original Title  \\\n",
       "0  1949–1953: Awarded as \"Golden Lion of Saint Mark\"   \n",
       "1                                              Manon   \n",
       "2                                              1950s   \n",
       "3                                  Justice est faite   \n",
       "4                                                羅生門   \n",
       "\n",
       "                                         Director(s)  \\\n",
       "0  1949–1953: Awarded as \"Golden Lion of Saint Mark\"   \n",
       "1                              Henri-Georges Clouzot   \n",
       "2                                              1950s   \n",
       "3                                      André Cayatte   \n",
       "4                                     Akira Kurosawa   \n",
       "\n",
       "                                  Production Country  \n",
       "0  1949–1953: Awarded as \"Golden Lion of Saint Mark\"  \n",
       "1                                             France  \n",
       "2                                              1950s  \n",
       "3                                             France  \n",
       "4                                              Japan  "
      ]
     },
     "execution_count": 13,
     "metadata": {},
     "output_type": "execute_result"
    }
   ],
   "source": [
    "df_venice.head()"
   ]
  },
  {
   "cell_type": "code",
   "execution_count": 14,
   "id": "0004b4e0-2069-431f-a2cf-3fa383c614c1",
   "metadata": {
    "tags": []
   },
   "outputs": [],
   "source": [
    "#Переведем названия столбцов в нижний регистр и уберем пробелы\n",
    "df_venice.columns = map(str.lower, df_venice.columns)\n",
    "df_venice.columns = df_venice.columns.str.replace(' ', '_')"
   ]
  },
  {
   "cell_type": "code",
   "execution_count": 15,
   "id": "9bbd580e-db80-4643-92e4-954aa8f39075",
   "metadata": {
    "tags": []
   },
   "outputs": [],
   "source": [
    "#Уберем строки с идентичными значениями в столбцах, а также уберем лишние символы из столбца с годом проведения фестиваля\n",
    "df_venice = df_venice[df_venice[\"original_title\"] != df_venice[\"production_country\"]]\n",
    "df_venice['year'] = [x[:4] for x in df_venice['year']]"
   ]
  },
  {
   "cell_type": "code",
   "execution_count": 16,
   "id": "5873e16d-0167-4f83-b8fe-617ad6d24ddd",
   "metadata": {
    "tags": []
   },
   "outputs": [],
   "source": [
    "#Оставляем одну страну производства\n",
    "df_venice['production_country'] = df_venice['production_country'].replace(\",.*\", \"\", regex=True)"
   ]
  },
  {
   "cell_type": "markdown",
   "id": "599ba904",
   "metadata": {},
   "source": [
    "**Сбросим индексы и создадим для каждой таблицы столбец с названием фестиваля**"
   ]
  },
  {
   "cell_type": "code",
   "execution_count": 17,
   "id": "3896d6e1-2b87-4f05-9eb1-451b64da5076",
   "metadata": {
    "tags": []
   },
   "outputs": [],
   "source": [
    "df_venice = df_venice.reset_index(drop=True)"
   ]
  },
  {
   "cell_type": "code",
   "execution_count": 18,
   "id": "4f8f5452-41ff-42f9-86e6-2d1133d928af",
   "metadata": {},
   "outputs": [],
   "source": [
    "df_berlin = df_berlin.reset_index(drop=True)"
   ]
  },
  {
   "cell_type": "code",
   "execution_count": 19,
   "id": "daa6ccc9-7faa-4be6-a3e2-5cb03b6c7ac7",
   "metadata": {
    "tags": []
   },
   "outputs": [],
   "source": [
    "df_cannes = df_cannes.reset_index(drop=True)"
   ]
  },
  {
   "cell_type": "code",
   "execution_count": 20,
   "id": "de1af146-9bb1-4439-8ca5-22b766710d97",
   "metadata": {
    "tags": []
   },
   "outputs": [],
   "source": [
    "df_cannes['festival'] = 'Cannes'"
   ]
  },
  {
   "cell_type": "code",
   "execution_count": 21,
   "id": "623dfd31-a1de-4f0c-a577-c46a43a83fc8",
   "metadata": {
    "tags": []
   },
   "outputs": [],
   "source": [
    "df_venice['festival'] = 'Venice'"
   ]
  },
  {
   "cell_type": "code",
   "execution_count": 22,
   "id": "512ade00-f70d-4e11-87a2-8dfcf8c479e4",
   "metadata": {
    "tags": []
   },
   "outputs": [],
   "source": [
    "df_berlin['festival'] = 'Berlin'"
   ]
  },
  {
   "cell_type": "markdown",
   "id": "2bb1cf16",
   "metadata": {},
   "source": [
    "**Объединим таблицы в одну**"
   ]
  },
  {
   "cell_type": "code",
   "execution_count": 23,
   "id": "6fc3b494-e2f5-4bf7-a9bc-7cef1be21ce3",
   "metadata": {
    "tags": []
   },
   "outputs": [],
   "source": [
    "merges = [df_cannes, df_venice, df_berlin]"
   ]
  },
  {
   "cell_type": "code",
   "execution_count": 24,
   "id": "ea46263b-761f-4d38-a908-0cead9399dc6",
   "metadata": {
    "tags": []
   },
   "outputs": [],
   "source": [
    "df = pd.concat(merges)"
   ]
  },
  {
   "cell_type": "code",
   "execution_count": 25,
   "id": "d31bcafc-8c84-41be-acbe-128a605fe333",
   "metadata": {
    "tags": []
   },
   "outputs": [
    {
     "data": {
      "text/html": [
       "<div>\n",
       "<style scoped>\n",
       "    .dataframe tbody tr th:only-of-type {\n",
       "        vertical-align: middle;\n",
       "    }\n",
       "\n",
       "    .dataframe tbody tr th {\n",
       "        vertical-align: top;\n",
       "    }\n",
       "\n",
       "    .dataframe thead th {\n",
       "        text-align: right;\n",
       "    }\n",
       "</style>\n",
       "<table border=\"1\" class=\"dataframe\">\n",
       "  <thead>\n",
       "    <tr style=\"text-align: right;\">\n",
       "      <th></th>\n",
       "      <th>year</th>\n",
       "      <th>english_title</th>\n",
       "      <th>original_title</th>\n",
       "      <th>director(s)</th>\n",
       "      <th>production_country</th>\n",
       "      <th>festival</th>\n",
       "    </tr>\n",
       "  </thead>\n",
       "  <tbody>\n",
       "    <tr>\n",
       "      <th>0</th>\n",
       "      <td>1946</td>\n",
       "      <td>Brief Encounter</td>\n",
       "      <td>Brief Encounter</td>\n",
       "      <td>David Lean</td>\n",
       "      <td>United Kingdom</td>\n",
       "      <td>Cannes</td>\n",
       "    </tr>\n",
       "    <tr>\n",
       "      <th>1</th>\n",
       "      <td>1946</td>\n",
       "      <td>The Last Chance</td>\n",
       "      <td>Die Letzte Chance</td>\n",
       "      <td>Leopold Lindtberg</td>\n",
       "      <td>Switzerland</td>\n",
       "      <td>Cannes</td>\n",
       "    </tr>\n",
       "    <tr>\n",
       "      <th>2</th>\n",
       "      <td>1946</td>\n",
       "      <td>The Lost Weekend</td>\n",
       "      <td>The Lost Weekend</td>\n",
       "      <td>Billy Wilder</td>\n",
       "      <td>United States</td>\n",
       "      <td>Cannes</td>\n",
       "    </tr>\n",
       "    <tr>\n",
       "      <th>3</th>\n",
       "      <td>1946</td>\n",
       "      <td>María Candelaria</td>\n",
       "      <td>María Candelaria</td>\n",
       "      <td>Emilio Fernández</td>\n",
       "      <td>Mexico</td>\n",
       "      <td>Cannes</td>\n",
       "    </tr>\n",
       "    <tr>\n",
       "      <th>4</th>\n",
       "      <td>1946</td>\n",
       "      <td>Men Without Wings</td>\n",
       "      <td>Muži bez křídel</td>\n",
       "      <td>František Čáp</td>\n",
       "      <td>Czechoslovakia</td>\n",
       "      <td>Cannes</td>\n",
       "    </tr>\n",
       "  </tbody>\n",
       "</table>\n",
       "</div>"
      ],
      "text/plain": [
       "   year      english_title     original_title        director(s)  \\\n",
       "0  1946    Brief Encounter    Brief Encounter         David Lean   \n",
       "1  1946    The Last Chance  Die Letzte Chance  Leopold Lindtberg   \n",
       "2  1946   The Lost Weekend   The Lost Weekend       Billy Wilder   \n",
       "3  1946   María Candelaria   María Candelaria   Emilio Fernández   \n",
       "4  1946  Men Without Wings    Muži bez křídel      František Čáp   \n",
       "\n",
       "  production_country festival  \n",
       "0     United Kingdom   Cannes  \n",
       "1        Switzerland   Cannes  \n",
       "2      United States   Cannes  \n",
       "3             Mexico   Cannes  \n",
       "4     Czechoslovakia   Cannes  "
      ]
     },
     "execution_count": 25,
     "metadata": {},
     "output_type": "execute_result"
    }
   ],
   "source": [
    "df.head()"
   ]
  },
  {
   "cell_type": "markdown",
   "id": "74889123",
   "metadata": {},
   "source": [
    "**Для дальнейшей визуализации добавим столбец с сокращенными названиями стран**"
   ]
  },
  {
   "cell_type": "code",
   "execution_count": 26,
   "id": "ff974a6e",
   "metadata": {},
   "outputs": [],
   "source": [
    "#Для этого импортируем библиотеку\n",
    "import country_converter as coco"
   ]
  },
  {
   "cell_type": "code",
   "execution_count": 27,
   "id": "495bb6ce",
   "metadata": {},
   "outputs": [
    {
     "name": "stderr",
     "output_type": "stream",
     "text": [
      "Soviet Union not found in regex\n",
      "Soviet Union not found in regex\n",
      "West Germany not found in regex\n",
      "West Germany not found in regex\n",
      "Yugoslavia not found in regex\n",
      "Yugoslavia not found in regex\n",
      "Soviet Union not found in regex\n",
      "West Germany not found in regex\n",
      "West Germany not found in regex\n",
      "West Germany not found in regex\n",
      "Soviet Union not found in regex\n",
      "West Germany not found in regex\n",
      "Yugoslavia not found in regex\n",
      "West Germany not found in regex\n",
      "Soviet Union not found in regex\n",
      "West Germany not found in regex\n",
      "West Germany not found in regex\n",
      "West Germany not found in regex\n",
      "East Germany not found in regex\n",
      "West Germany not found in regex\n",
      "Soviet Union not found in regex\n"
     ]
    }
   ],
   "source": [
    "df['production_country_sht'] = coco.convert(names=df['production_country'])"
   ]
  },
  {
   "cell_type": "code",
   "execution_count": 28,
   "id": "badcd481",
   "metadata": {},
   "outputs": [
    {
     "data": {
      "text/html": [
       "<div>\n",
       "<style scoped>\n",
       "    .dataframe tbody tr th:only-of-type {\n",
       "        vertical-align: middle;\n",
       "    }\n",
       "\n",
       "    .dataframe tbody tr th {\n",
       "        vertical-align: top;\n",
       "    }\n",
       "\n",
       "    .dataframe thead th {\n",
       "        text-align: right;\n",
       "    }\n",
       "</style>\n",
       "<table border=\"1\" class=\"dataframe\">\n",
       "  <thead>\n",
       "    <tr style=\"text-align: right;\">\n",
       "      <th></th>\n",
       "      <th>year</th>\n",
       "      <th>english_title</th>\n",
       "      <th>original_title</th>\n",
       "      <th>director(s)</th>\n",
       "      <th>production_country</th>\n",
       "      <th>festival</th>\n",
       "      <th>production_country_sht</th>\n",
       "    </tr>\n",
       "  </thead>\n",
       "  <tbody>\n",
       "    <tr>\n",
       "      <th>0</th>\n",
       "      <td>1946</td>\n",
       "      <td>Brief Encounter</td>\n",
       "      <td>Brief Encounter</td>\n",
       "      <td>David Lean</td>\n",
       "      <td>United Kingdom</td>\n",
       "      <td>Cannes</td>\n",
       "      <td>GBR</td>\n",
       "    </tr>\n",
       "    <tr>\n",
       "      <th>1</th>\n",
       "      <td>1946</td>\n",
       "      <td>The Last Chance</td>\n",
       "      <td>Die Letzte Chance</td>\n",
       "      <td>Leopold Lindtberg</td>\n",
       "      <td>Switzerland</td>\n",
       "      <td>Cannes</td>\n",
       "      <td>CHE</td>\n",
       "    </tr>\n",
       "    <tr>\n",
       "      <th>2</th>\n",
       "      <td>1946</td>\n",
       "      <td>The Lost Weekend</td>\n",
       "      <td>The Lost Weekend</td>\n",
       "      <td>Billy Wilder</td>\n",
       "      <td>United States</td>\n",
       "      <td>Cannes</td>\n",
       "      <td>USA</td>\n",
       "    </tr>\n",
       "    <tr>\n",
       "      <th>3</th>\n",
       "      <td>1946</td>\n",
       "      <td>María Candelaria</td>\n",
       "      <td>María Candelaria</td>\n",
       "      <td>Emilio Fernández</td>\n",
       "      <td>Mexico</td>\n",
       "      <td>Cannes</td>\n",
       "      <td>MEX</td>\n",
       "    </tr>\n",
       "    <tr>\n",
       "      <th>4</th>\n",
       "      <td>1946</td>\n",
       "      <td>Men Without Wings</td>\n",
       "      <td>Muži bez křídel</td>\n",
       "      <td>František Čáp</td>\n",
       "      <td>Czechoslovakia</td>\n",
       "      <td>Cannes</td>\n",
       "      <td>CZE</td>\n",
       "    </tr>\n",
       "  </tbody>\n",
       "</table>\n",
       "</div>"
      ],
      "text/plain": [
       "   year      english_title     original_title        director(s)  \\\n",
       "0  1946    Brief Encounter    Brief Encounter         David Lean   \n",
       "1  1946    The Last Chance  Die Letzte Chance  Leopold Lindtberg   \n",
       "2  1946   The Lost Weekend   The Lost Weekend       Billy Wilder   \n",
       "3  1946   María Candelaria   María Candelaria   Emilio Fernández   \n",
       "4  1946  Men Without Wings    Muži bez křídel      František Čáp   \n",
       "\n",
       "  production_country festival production_country_sht  \n",
       "0     United Kingdom   Cannes                    GBR  \n",
       "1        Switzerland   Cannes                    CHE  \n",
       "2      United States   Cannes                    USA  \n",
       "3             Mexico   Cannes                    MEX  \n",
       "4     Czechoslovakia   Cannes                    CZE  "
      ]
     },
     "execution_count": 28,
     "metadata": {},
     "output_type": "execute_result"
    }
   ],
   "source": [
    "#Некоторых стран уже нет поэтому дополнительно поправим сокращенные названия\n",
    "df.head()"
   ]
  },
  {
   "cell_type": "code",
   "execution_count": 29,
   "id": "b9f01cba",
   "metadata": {},
   "outputs": [],
   "source": [
    "df.loc[df['production_country'] == 'Soviet Union', 'production_country_sht'] = 'RUS'"
   ]
  },
  {
   "cell_type": "code",
   "execution_count": 30,
   "id": "84853178",
   "metadata": {},
   "outputs": [],
   "source": [
    "df.loc[df['production_country'] == 'West Germany', 'production_country_sht'] = 'DEU'"
   ]
  },
  {
   "cell_type": "code",
   "execution_count": 31,
   "id": "b6fc9665",
   "metadata": {},
   "outputs": [],
   "source": [
    "df.loc[df['production_country'] == 'Yugoslavia', 'production_country_sht'] = 'SRB'"
   ]
  },
  {
   "cell_type": "code",
   "execution_count": 32,
   "id": "64063a91",
   "metadata": {},
   "outputs": [],
   "source": [
    "df.loc[df['production_country'] == 'East Germany', 'production_country_sht'] = 'DEU'"
   ]
  },
  {
   "cell_type": "markdown",
   "id": "d4d23f85",
   "metadata": {},
   "source": [
    "**Также немного скорректируем информацию по отдельным фильмам**"
   ]
  },
  {
   "cell_type": "code",
   "execution_count": 33,
   "id": "9790743f",
   "metadata": {},
   "outputs": [],
   "source": [
    "#Итальянское производство\n",
    "df.loc[df['english_title'] == 'The Garden of the Finzi-Continis', 'production_country'] = 'Italy'\n",
    "df.loc[df['english_title'] == 'The Garden of the Finzi-Continis', 'production_country_sht'] = 'ITA'"
   ]
  },
  {
   "cell_type": "code",
   "execution_count": 34,
   "id": "b8e20d32",
   "metadata": {},
   "outputs": [],
   "source": [
    "#Итальянское производство\n",
    "df.loc[df['english_title'] == 'The Battle of Algiers', 'production_country'] = 'Italy'\n",
    "df.loc[df['english_title'] == 'The Battle of Algiers', 'production_country_sht'] = 'ITA'"
   ]
  },
  {
   "cell_type": "code",
   "execution_count": 35,
   "id": "988cbe16",
   "metadata": {},
   "outputs": [],
   "source": [
    "#Итальянское производство\n",
    "df.loc[df['english_title'] == 'General Della Rovere', 'production_country'] = 'Italy'\n",
    "df.loc[df['english_title'] == 'General Della Rovere', 'production_country_sht'] = 'ITA'"
   ]
  },
  {
   "cell_type": "code",
   "execution_count": 36,
   "id": "1325d686",
   "metadata": {},
   "outputs": [],
   "source": [
    "#Итальянское производство\n",
    "df.loc[df['english_title'] == 'The Great War', 'production_country'] = 'Italy'\n",
    "df.loc[df['english_title'] == 'The Great War', 'production_country_sht'] = 'ITA'"
   ]
  },
  {
   "cell_type": "code",
   "execution_count": 37,
   "id": "218605f2",
   "metadata": {},
   "outputs": [],
   "source": [
    "#Совместное производство с бОльшей долей США\n",
    "df.loc[df['english_title'] == 'Lust, Caution', 'production_country'] = 'United States'\n",
    "df.loc[df['english_title'] == 'Lust, Caution', 'production_country_sht'] = 'USA'"
   ]
  },
  {
   "cell_type": "code",
   "execution_count": 38,
   "id": "021a904f",
   "metadata": {},
   "outputs": [],
   "source": [
    "#Совместное производство с бОльшей долей Франции\n",
    "df.loc[df['english_title'] == 'Atlantic City', 'production_country'] = 'France'\n",
    "df.loc[df['english_title'] == 'Atlantic City', 'production_country_sht'] = 'FRA'"
   ]
  },
  {
   "cell_type": "code",
   "execution_count": 39,
   "id": "f6278302",
   "metadata": {},
   "outputs": [],
   "source": [
    "#Совместное производство с бОльшей долей Франции\n",
    "df.loc[df['english_title'] == 'Cyclo', 'production_country'] = 'France'\n",
    "df.loc[df['english_title'] == 'Cyclo', 'production_country_sht'] = 'FRA'"
   ]
  },
  {
   "cell_type": "code",
   "execution_count": 40,
   "id": "da126a55",
   "metadata": {},
   "outputs": [],
   "source": [
    "#Британское производство\n",
    "df.loc[df['english_title'] == 'Secrets & Lies', 'production_country'] = 'United Kingdom'\n",
    "df.loc[df['english_title'] == 'Secrets & Lies', 'production_country_sht'] = 'GBR'"
   ]
  },
  {
   "cell_type": "code",
   "execution_count": 41,
   "id": "450b837a",
   "metadata": {},
   "outputs": [],
   "source": [
    "#Совместное производство с бОльшей долей Франции\n",
    "df.loc[df['english_title'] == 'The Pianist', 'production_country'] = 'France'\n",
    "df.loc[df['english_title'] == 'The Pianist', 'production_country_sht'] = 'FRA'"
   ]
  },
  {
   "cell_type": "code",
   "execution_count": 42,
   "id": "b6cab760",
   "metadata": {},
   "outputs": [],
   "source": [
    "#Производство Китая\n",
    "df.loc[df['english_title'] == 'Farewell My Concubine', 'production_country'] = 'China'\n",
    "df.loc[df['english_title'] == 'Farewell My Concubine', 'production_country_sht'] = 'CHN'"
   ]
  },
  {
   "cell_type": "markdown",
   "id": "5e80acd0",
   "metadata": {},
   "source": [
    "**Итоговая таблица готова к дальнейшей обработке в BI-инструменте**"
   ]
  },
  {
   "cell_type": "markdown",
   "id": "05094c5c",
   "metadata": {},
   "source": [
    "Ссылка на дашбоард - https://public.tableau.com/views/MajorEuropeanfilmfestivalswinners/Dashboard1?:language=en-US&:sid=&:redirect=auth&:display_count=n&:origin=viz_share_link"
   ]
  }
 ],
 "metadata": {
  "kernelspec": {
   "display_name": "Python 3 (ipykernel)",
   "language": "python",
   "name": "python3"
  },
  "language_info": {
   "codemirror_mode": {
    "name": "ipython",
    "version": 3
   },
   "file_extension": ".py",
   "mimetype": "text/x-python",
   "name": "python",
   "nbconvert_exporter": "python",
   "pygments_lexer": "ipython3",
   "version": "3.11.7"
  }
 },
 "nbformat": 4,
 "nbformat_minor": 5
}
